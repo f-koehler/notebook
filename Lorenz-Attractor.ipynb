{
 "cells": [
  {
   "cell_type": "code",
   "execution_count": null,
   "metadata": {},
   "outputs": [],
   "source": [
    "%matplotlib notebook\n",
    "from scipy.integrate import odeint\n",
    "from numba import jit\n",
    "from timeit import default_timer as timer\n",
    "from mpl_toolkits.mplot3d import Axes3D\n",
    "import numpy as np\n",
    "import matplotlib.pyplot as plt"
   ]
  },
  {
   "cell_type": "code",
   "execution_count": null,
   "metadata": {},
   "outputs": [],
   "source": [
    "@jit\n",
    "def f(r, t, ρ, σ, β):\n",
    "    return [\n",
    "        σ*(r[1] - r[0]),\n",
    "        r[0] * (ρ - r[2]) - r[1],\n",
    "        r[0] * r[1] - β * r[2]\n",
    "    ]\n",
    "\n",
    "@jit\n",
    "def jacobian(r, t, ρ, σ, β):\n",
    "    return [\n",
    "        [ -σ, σ, 0.],\n",
    "        [ρ, -1, -r[0]],\n",
    "        [r[1], r[0], -β]\n",
    "    ]\n",
    "\n",
    "@jit\n",
    "def integrate(r0, t, ρ, σ, β):\n",
    "    return odeint(\n",
    "        f, r0, t,\n",
    "        args=(ρ, σ, β),\n",
    "        Dfun=jacobian,\n",
    "        rtol=1e-11, atol=1e-12\n",
    "    )"
   ]
  },
  {
   "cell_type": "code",
   "execution_count": null,
   "metadata": {},
   "outputs": [],
   "source": [
    "start = timer()\n",
    "lorenz = integrate([1., 1., 1.], np.linspace(0., 1000., 100000), 28, 10., 8./3.)\n",
    "stop = timer()\n",
    "print(\"Execution took: {} s\".format(stop-start))"
   ]
  },
  {
   "cell_type": "code",
   "execution_count": null,
   "metadata": {},
   "outputs": [],
   "source": [
    "fig = plt.figure()\n",
    "ax = fig.add_subplot(111, projection='3d')\n",
    "ax.plot(\n",
    "    lorenz[:, 0],\n",
    "    lorenz[:, 1],\n",
    "    lorenz[:, 2],\n",
    "    linewidth=0.03\n",
    ")\n",
    "ax.set_xlabel(\"$x$\")\n",
    "ax.set_ylabel(\"$y$\")\n",
    "ax.set_zlabel(\"$z$\")"
   ]
  },
  {
   "cell_type": "code",
   "execution_count": null,
   "metadata": {},
   "outputs": [],
   "source": []
  }
 ],
 "metadata": {
  "kernelspec": {
   "display_name": "Python 3",
   "language": "python",
   "name": "python3"
  },
  "language_info": {
   "codemirror_mode": {
    "name": "ipython",
    "version": 3
   },
   "file_extension": ".py",
   "mimetype": "text/x-python",
   "name": "python",
   "nbconvert_exporter": "python",
   "pygments_lexer": "ipython3",
   "version": "3.6.1"
  }
 },
 "nbformat": 4,
 "nbformat_minor": 2
}
