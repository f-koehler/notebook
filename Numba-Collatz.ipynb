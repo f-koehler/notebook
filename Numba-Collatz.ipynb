{
 "cells": [
  {
   "cell_type": "code",
   "execution_count": null,
   "metadata": {},
   "outputs": [],
   "source": [
    "%matplotlib inline\n",
    "%config InlineBackend.figure_format = 'svg'\n",
    "from numba import jit\n",
    "from timeit import default_timer as timer\n",
    "import matplotlib\n",
    "import numpy as np\n",
    "import seaborn"
   ]
  },
  {
   "cell_type": "code",
   "execution_count": null,
   "metadata": {},
   "outputs": [],
   "source": [
    "matplotlib.rc(\"figure\", figsize=(8, 5))\n",
    "seaborn.set()"
   ]
  },
  {
   "cell_type": "code",
   "execution_count": null,
   "metadata": {},
   "outputs": [],
   "source": [
    "@jit(\"int64(int64)\")\n",
    "def collatz_stopping_time(n):\n",
    "    iterations = 0\n",
    "    while n != 1:\n",
    "        if n % 2 == 0:\n",
    "            n = n / 2\n",
    "            iterations += 1\n",
    "        else:\n",
    "            n = (3 * n + 1) / 2\n",
    "            iterations += 2\n",
    "    return iterations\n",
    "\n",
    "@jit(\"int64[:](int64[:])\")\n",
    "def compute_stopping_times(ns):\n",
    "    times = np.zeros(len(ns), dtype=np.int64)\n",
    "    for i, n in enumerate(ns):\n",
    "        times[i] = collatz_stopping_time(n)\n",
    "    return times"
   ]
  },
  {
   "cell_type": "code",
   "execution_count": null,
   "metadata": {},
   "outputs": [],
   "source": [
    "start = timer()\n",
    "times = compute_stopping_times(np.arange(1, 5000000))\n",
    "stop = timer()\n",
    "print(\"Execution took: {} s\".format(stop-start))"
   ]
  },
  {
   "cell_type": "code",
   "execution_count": null,
   "metadata": {},
   "outputs": [],
   "source": [
    "seaborn.distplot(times)"
   ]
  },
  {
   "cell_type": "code",
   "execution_count": null,
   "metadata": {},
   "outputs": [],
   "source": []
  }
 ],
 "metadata": {
  "kernelspec": {
   "display_name": "Python 3",
   "language": "python",
   "name": "python3"
  },
  "language_info": {
   "codemirror_mode": {
    "name": "ipython",
    "version": 3
   },
   "file_extension": ".py",
   "mimetype": "text/x-python",
   "name": "python",
   "nbconvert_exporter": "python",
   "pygments_lexer": "ipython3",
   "version": "3.6.2"
  }
 },
 "nbformat": 4,
 "nbformat_minor": 2
}
