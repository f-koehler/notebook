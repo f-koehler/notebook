{
 "cells": [
  {
   "cell_type": "code",
   "execution_count": null,
   "metadata": {},
   "outputs": [],
   "source": [
    "%matplotlib inline\n",
    "%config InlineBackend.figure_format = 'svg'\n",
    "from numba import *\n",
    "from pygments.formatters import HtmlFormatter\n",
    "from pygments.lexers import asm\n",
    "from pygments import highlight\n",
    "from IPython.core.display import HTML\n",
    "from timeit import default_timer as timer\n",
    "import matplotlib\n",
    "import numpy as np\n",
    "import seaborn\n",
    "import multiprocessing\n",
    "\n",
    "def show_code(code, lexer):\n",
    "    print()\n",
    "    return HTML(\n",
    "        \"\"\"<style>{pygments_css}</style>\"\"\".format(pygments_css=HtmlFormatter().get_style_defs('.highlight'))\n",
    "        + highlight(code, lexer=lexer, formatter=HtmlFormatter()))"
   ]
  },
  {
   "cell_type": "code",
   "execution_count": null,
   "metadata": {},
   "outputs": [],
   "source": [
    "matplotlib.rc(\"figure\", figsize=(8, 5))\n",
    "seaborn.set()\n",
    "\n",
    "ns = 10000000"
   ]
  },
  {
   "cell_type": "code",
   "execution_count": null,
   "metadata": {},
   "outputs": [],
   "source": [
    "@jit(int64(int64))\n",
    "def collatz_stopping_time(n):\n",
    "    iterations = 0\n",
    "    while n != 1:\n",
    "        if n % 2 == 0:\n",
    "            n = n / 2\n",
    "            iterations += 1\n",
    "        else:\n",
    "            n = (3 * n + 1) / 2\n",
    "            iterations += 2\n",
    "    return iterations\n",
    "\n",
    "@jit\n",
    "def compute_stopping_times(ns):\n",
    "    times = np.zeros(ns - 1, dtype=np.int64)\n",
    "    for i in range(1, ns):\n",
    "        times[i - 1] = collatz_stopping_time(i)\n",
    "    return times"
   ]
  },
  {
   "cell_type": "code",
   "execution_count": null,
   "metadata": {},
   "outputs": [],
   "source": [
    "start = timer()\n",
    "times = compute_stopping_times(ns)\n",
    "stop = timer()\n",
    "print(\"Execution took: {} s\".format(stop-start))"
   ]
  },
  {
   "cell_type": "code",
   "execution_count": null,
   "metadata": {},
   "outputs": [],
   "source": [
    "ax = seaborn.distplot(times)\n",
    "ax.set_xlabel(\"iterations\")\n",
    "ax.set_ylabel(\"frequency\")\n",
    "ax"
   ]
  },
  {
   "cell_type": "code",
   "execution_count": null,
   "metadata": {},
   "outputs": [],
   "source": [
    "show_code(collatz_stopping_time.inspect_asm()[(int64,)], lexer=asm.LlvmLexer())"
   ]
  },
  {
   "cell_type": "code",
   "execution_count": null,
   "metadata": {},
   "outputs": [],
   "source": []
  }
 ],
 "metadata": {
  "kernelspec": {
   "display_name": "Python 3",
   "language": "python",
   "name": "python3"
  },
  "language_info": {
   "codemirror_mode": {
    "name": "ipython",
    "version": 3
   },
   "file_extension": ".py",
   "mimetype": "text/x-python",
   "name": "python",
   "nbconvert_exporter": "python",
   "pygments_lexer": "ipython3",
   "version": "3.6.1"
  }
 },
 "nbformat": 4,
 "nbformat_minor": 2
}
