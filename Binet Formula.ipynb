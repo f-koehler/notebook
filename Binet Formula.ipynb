{
 "cells": [
  {
   "cell_type": "markdown",
   "metadata": {},
   "source": [
    "Fibonacci Numbers\n",
    "--------------------\n",
    "The sequence of Fibonacci numbers $F_n$ is given by\n",
    "$$\n",
    "F_n=F_{n-1}+F_{n-2} \\\\\n",
    "F_0=0 \\\\\n",
    "F_1=1.\n",
    "$$\n",
    "This is a linear mapping:\n",
    "$$\n",
    "\\begin{pmatrix}\n",
    "F_{n+1} \\\\\n",
    "F_{n}\n",
    "\\end{pmatrix}\n",
    "=\n",
    "\\underbrace{\n",
    "\\begin{pmatrix}\n",
    "1 & 1 \\\\\n",
    "1 & 0\n",
    "\\end{pmatrix}\n",
    "}_{\\boldsymbol{M}}\n",
    "\\begin{pmatrix}\n",
    "F_{n} \\\\\n",
    "F_{n-1}\n",
    "\\end{pmatrix}\n",
    "=\n",
    "\\boldsymbol{M}^n\n",
    "\\begin{pmatrix}\n",
    "F_{1} \\\\\n",
    "F_{0}\n",
    "\\end{pmatrix}\n",
    "$$\n",
    "\n",
    "The matrix $\\boldsymbol{M}$ is diagonalizable $\\boldsymbol{S}^{-1}\\boldsymbol{M}\\boldsymbol{S}=\\boldsymbol{D}$, thus\n",
    "$$\n",
    "\\begin{pmatrix}\n",
    "F_{n+1} \\\\\n",
    "F_{n}\n",
    "\\end{pmatrix}\n",
    "=\n",
    "{\\left(\\boldsymbol{S}\\boldsymbol{D}\\boldsymbol{S}^{-1}\\right)}^n\n",
    "\\begin{pmatrix}\n",
    "F_{1} \\\\\n",
    "F_{0}\n",
    "\\end{pmatrix}\n",
    "=\n",
    "\\underbrace{\\boldsymbol{S}\\boldsymbol{D}^n\\boldsymbol{S}^{-1}}_{\\boldsymbol{A}_n}\n",
    "\\begin{pmatrix}\n",
    "F_{1} \\\\\n",
    "F_{0}\n",
    "\\end{pmatrix}.\n",
    "$$\n",
    "\n",
    "Let us now compute the matrix $\\boldsymbol{A}_n$:"
   ]
  },
  {
   "cell_type": "code",
   "execution_count": null,
   "metadata": {},
   "outputs": [],
   "source": [
    "import sympy as sym\n",
    "sym.init_printing()\n",
    "n = sym.symbols(\"n\")\n",
    "sym.var(\"φ\")\n",
    "def subs(x):\n",
    "    return x.subs((1+sym.sqrt(5))/2, φ)\n",
    "def resubs(x):\n",
    "    return x.subs(φ, (1+sym.sqrt(5))/2)"
   ]
  },
  {
   "cell_type": "code",
   "execution_count": null,
   "metadata": {},
   "outputs": [],
   "source": [
    "M = sym.Matrix([[1, 1], [1, 0]])\n",
    "M"
   ]
  },
  {
   "cell_type": "code",
   "execution_count": null,
   "metadata": {},
   "outputs": [],
   "source": [
    "S, D = M.diagonalize()"
   ]
  },
  {
   "cell_type": "code",
   "execution_count": null,
   "metadata": {},
   "outputs": [],
   "source": [
    "S = subs(S)\n",
    "Dn = subs(D**n)\n",
    "Sinv = S.inv()"
   ]
  },
  {
   "cell_type": "code",
   "execution_count": null,
   "metadata": {},
   "outputs": [],
   "source": [
    "S"
   ]
  },
  {
   "cell_type": "code",
   "execution_count": null,
   "metadata": {},
   "outputs": [],
   "source": [
    "Dn"
   ]
  },
  {
   "cell_type": "code",
   "execution_count": null,
   "metadata": {},
   "outputs": [],
   "source": [
    "Sinv"
   ]
  },
  {
   "cell_type": "code",
   "execution_count": null,
   "metadata": {},
   "outputs": [],
   "source": [
    "A_n = sym.simplify(S * Dn * Sinv)\n",
    "A_n"
   ]
  },
  {
   "cell_type": "code",
   "execution_count": null,
   "metadata": {},
   "outputs": [],
   "source": [
    "F_vec = sym.Matrix([[1], [0]])\n",
    "F_vec"
   ]
  },
  {
   "cell_type": "code",
   "execution_count": null,
   "metadata": {},
   "outputs": [],
   "source": [
    "Fn1 = (A_n * F_vec)[0]\n",
    "Fn1"
   ]
  },
  {
   "cell_type": "markdown",
   "metadata": {},
   "source": [
    "We now know that ($φ=\\frac{1+\\sqrt{5}}{2}$ is the golden ratio)\n",
    "$$\n",
    "F_{n+1}=\\frac{φ^{n+1}-{\\left(1-φ\\right)}^{n+1}}{2φ-1}\n",
    "$$\n",
    "and therefore\n",
    "$$\n",
    "F_{n}=\\frac{φ^n-{\\left(1-φ\\right)}^n}{2φ-1}=\\frac{φ^n-{\\left(-φ\\right)}^{-n}}{\\sqrt{5}}.\n",
    "$$\n",
    "This is Binet's well-known formula.\n",
    "\n",
    "If rewrite this as\n",
    "$$\n",
    "F_n=\\frac{1}{\\sqrt{5}}\\left(φ^n-{(-1)}^n\\frac{1}{{φ}^n}\\right)\n",
    "$$\n",
    "it becomes that clear that one evaluation of $φ^n$ is enough to compute the $n$th Fibonacci number (assuming the power function is accurate enough)."
   ]
  },
  {
   "cell_type": "code",
   "execution_count": null,
   "metadata": {},
   "outputs": [],
   "source": [
    "from math import sqrt\n",
    "\n",
    "sqrt5 = sqrt(5)\n",
    "phi = (1.+sqrt5)/2.\n",
    "\n",
    "def binet(n):\n",
    "    phin = phi ** n\n",
    "    if n % 2 == 0:\n",
    "        prefactor = 1\n",
    "    else:\n",
    "        prefactor = -1\n",
    "    return int((phin - prefactor / phin) / sqrt5)"
   ]
  },
  {
   "cell_type": "code",
   "execution_count": null,
   "metadata": {},
   "outputs": [],
   "source": [
    "binet(20)"
   ]
  },
  {
   "cell_type": "code",
   "execution_count": null,
   "metadata": {},
   "outputs": [],
   "source": []
  }
 ],
 "metadata": {
  "kernelspec": {
   "display_name": "Python 3",
   "language": "python",
   "name": "python3"
  },
  "language_info": {
   "codemirror_mode": {
    "name": "ipython",
    "version": 3
   },
   "file_extension": ".py",
   "mimetype": "text/x-python",
   "name": "python",
   "nbconvert_exporter": "python",
   "pygments_lexer": "ipython3",
   "version": "3.6.2"
  }
 },
 "nbformat": 4,
 "nbformat_minor": 2
}
