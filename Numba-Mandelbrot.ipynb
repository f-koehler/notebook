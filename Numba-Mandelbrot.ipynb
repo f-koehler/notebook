{
 "cells": [
  {
   "cell_type": "code",
   "execution_count": null,
   "metadata": {},
   "outputs": [],
   "source": [
    "from bokeh.plotting import figure, show\n",
    "from bokeh.io import output_notebook\n",
    "from numba import *\n",
    "from timeit import default_timer as timer\n",
    "import numpy as np"
   ]
  },
  {
   "cell_type": "code",
   "execution_count": null,
   "metadata": {},
   "outputs": [],
   "source": [
    "output_notebook()\n",
    "max_iterations = 100\n",
    "half_width = 750\n",
    "half_height = 500\n",
    "min_x = -2.0\n",
    "max_x = 1.0\n",
    "min_y = -1.0\n",
    "max_y = 1.0\n",
    "\n",
    "width = half_width * 2\n",
    "height = half_height * 2\n",
    "dx = (max_x - min_x) / width\n",
    "dy = (max_y - min_y) / height\n",
    "\n",
    "def show_image(image):\n",
    "    p = figure(x_range=(min_x, max_x), y_range=(min_y, max_y))\n",
    "    p.image(image=[image], x=min_x, y=min_y, dw=max_x-min_x, dh=max_y-min_y, palette=\"Viridis256\")\n",
    "    show(p)\n",
    "    \n",
    "def create_image():\n",
    "    return np.zeros((height, width), dtype=np.uint8)"
   ]
  },
  {
   "cell_type": "markdown",
   "metadata": {},
   "source": [
    "Create the Mandelbrot set without numba\n",
    "---------------------------------------------"
   ]
  },
  {
   "cell_type": "code",
   "execution_count": null,
   "metadata": {},
   "outputs": [],
   "source": [
    "def mandelbrot_pixel(x, y):\n",
    "    c = complex(x, y)\n",
    "    z = 0.0j\n",
    "    for i in range(max_iterations):\n",
    "        z = z * z + c\n",
    "        if (z.real * z.real + z.imag * z.imag) >= 4:\n",
    "            return i\n",
    "\n",
    "    return 255\n",
    "\n",
    "def mandelbrot():\n",
    "    image = create_image()\n",
    "    for x in range(width):\n",
    "        real = min_x + x * dx\n",
    "        for y in range(height):\n",
    "            imag = min_y + y * dy\n",
    "            color = mandelbrot_pixel(real, imag)\n",
    "            image[y, x] = color\n",
    "    return image"
   ]
  },
  {
   "cell_type": "code",
   "execution_count": null,
   "metadata": {},
   "outputs": [],
   "source": [
    "start = timer()\n",
    "image = mandelbrot()\n",
    "stop = timer()\n",
    "print(\"Execution took: {} s\".format(stop-start))"
   ]
  },
  {
   "cell_type": "code",
   "execution_count": null,
   "metadata": {},
   "outputs": [],
   "source": [
    "show_image(image)"
   ]
  },
  {
   "cell_type": "markdown",
   "metadata": {},
   "source": [
    "Create the Mandelbrot set with numba\n",
    "-----------------------------------------"
   ]
  },
  {
   "cell_type": "code",
   "execution_count": null,
   "metadata": {},
   "outputs": [],
   "source": [
    "@jit\n",
    "def mandelbrot_pixel_numba(x, y):\n",
    "    c = complex(x, y)\n",
    "    z = 0.0j\n",
    "    for i in range(max_iterations):\n",
    "        z = z * z + c\n",
    "        if (z.real * z.real + z.imag * z.imag) >= 4:\n",
    "            return i\n",
    "\n",
    "    return 255\n",
    "\n",
    "@jit\n",
    "def mandelbrot_numba():\n",
    "    image = create_image()\n",
    "    for x in range(width):\n",
    "        real = min_x + x * dx\n",
    "        for y in range(height):\n",
    "            imag = min_y + y * dy\n",
    "            color = mandelbrot_pixel_numba(real, imag)\n",
    "            image[y, x] = color\n",
    "\n",
    "    return image"
   ]
  },
  {
   "cell_type": "code",
   "execution_count": null,
   "metadata": {},
   "outputs": [],
   "source": [
    "start = timer()\n",
    "image = mandelbrot_numba()\n",
    "stop = timer()\n",
    "print(\"Execution took: {} s\".format(stop-start))"
   ]
  },
  {
   "cell_type": "code",
   "execution_count": null,
   "metadata": {},
   "outputs": [],
   "source": [
    "show_image(image)"
   ]
  },
  {
   "cell_type": "markdown",
   "metadata": {},
   "source": [
    "Create the Mandelbrot set with numba (eager compilation)\n",
    "----------------------------------------------------------------"
   ]
  },
  {
   "cell_type": "code",
   "execution_count": null,
   "metadata": {},
   "outputs": [],
   "source": [
    "@jit(uint8(float64,float64), nopython=True)\n",
    "def mandelbrot_pixel_numba_eager(x, y):\n",
    "    c = complex(x, y)\n",
    "    z = 0.0j\n",
    "    for i in range(max_iterations):\n",
    "        z = z * z + c\n",
    "        if (z.real * z.real + z.imag * z.imag) >= 4:\n",
    "            return i\n",
    "\n",
    "    return 255\n",
    "\n",
    "@jit\n",
    "def mandelbrot_numba_eager():\n",
    "    image = create_image()\n",
    "    for x in range(width):\n",
    "        real = min_x + x * dx\n",
    "        for y in range(height):\n",
    "            imag = min_y + y * dy\n",
    "            color = mandelbrot_pixel_numba_eager(real, imag)\n",
    "            image[y, x] = color\n",
    "\n",
    "    return image"
   ]
  },
  {
   "cell_type": "code",
   "execution_count": null,
   "metadata": {},
   "outputs": [],
   "source": [
    "start = timer()\n",
    "image = mandelbrot_numba_eager()\n",
    "stop = timer()\n",
    "print(\"Execution took: {} s\".format(stop-start))"
   ]
  },
  {
   "cell_type": "code",
   "execution_count": null,
   "metadata": {},
   "outputs": [],
   "source": [
    "show_image(image)"
   ]
  },
  {
   "cell_type": "markdown",
   "metadata": {},
   "source": [
    "Create the Mandelbrot set with numba (vectorize)\n",
    "------------------------------------------------------"
   ]
  },
  {
   "cell_type": "code",
   "execution_count": null,
   "metadata": {},
   "outputs": [],
   "source": [
    "@vectorize([uint8(float64, float64)])\n",
    "def mandelbrot_pixel_numba_vectorize(x, y):\n",
    "    c = complex(x, y)\n",
    "    z = 0.0j\n",
    "    for i in range(max_iterations):\n",
    "        z = z * z + c\n",
    "        if (z.real * z.real + z.imag * z.imag) >= 4:\n",
    "            return i\n",
    "\n",
    "    return 255\n",
    "\n",
    "def mandelbrot_numba_vectorize():\n",
    "    X, Y = np.meshgrid(\n",
    "        np.arange(min_x, max_x, dx),\n",
    "        np.arange(min_y, max_y, dy),\n",
    "    )\n",
    "    return mandelbrot_pixel_numba_vectorize(X, Y).reshape(X.shape)"
   ]
  },
  {
   "cell_type": "code",
   "execution_count": null,
   "metadata": {},
   "outputs": [],
   "source": [
    "start = timer()\n",
    "image = mandelbrot_numba_vectorize()\n",
    "stop = timer()\n",
    "print(\"Execution took: {} s\".format(stop-start))"
   ]
  },
  {
   "cell_type": "code",
   "execution_count": null,
   "metadata": {},
   "outputs": [],
   "source": [
    "show_image(image)"
   ]
  },
  {
   "cell_type": "markdown",
   "metadata": {},
   "source": [
    "Create the Mandelbrot set with numba (guvectorize)\n",
    "---------------------------------------------------------"
   ]
  },
  {
   "cell_type": "code",
   "execution_count": null,
   "metadata": {},
   "outputs": [],
   "source": [
    "@guvectorize([(uint64[:], uint64[:], uint8[:,:])], \"(n),(m)->(m,n)\")\n",
    "def mandelbrot_pixel_numba_guvectorize(x_indices, y_indices, image):\n",
    "    for xi in x_indices:\n",
    "        x = min_x + xi * dx\n",
    "        for yi in y_indices:\n",
    "            y = min_y + yi * dy\n",
    "            \n",
    "            c = complex(x, y)\n",
    "            z = 0.0j\n",
    "            for i in range(max_iterations):\n",
    "                z = z * z + c\n",
    "                if (z.real * z.real + z.imag * z.imag) >= 4:\n",
    "                    image[yi, xi] = i\n",
    "                    break\n",
    "            else:\n",
    "                image[yi, xi] = 255\n",
    "\n",
    "def mandelbrot_numba_guvectorize():\n",
    "    image = np.zeros((height, width), dtype=np.uint8)\n",
    "    x = np.arange(0, width, dtype=np.uint64)\n",
    "    y = np.arange(0, height, dtype=np.uint64)\n",
    "    mandelbrot_pixel_numba_guvectorize(x, y, image)\n",
    "    return image"
   ]
  },
  {
   "cell_type": "code",
   "execution_count": null,
   "metadata": {},
   "outputs": [],
   "source": [
    "start = timer()\n",
    "image = mandelbrot_numba_guvectorize()\n",
    "stop = timer()\n",
    "print(\"Execution took: {} s\".format(stop-start))"
   ]
  },
  {
   "cell_type": "code",
   "execution_count": null,
   "metadata": {},
   "outputs": [],
   "source": [
    "show_image(image)"
   ]
  },
  {
   "cell_type": "code",
   "execution_count": null,
   "metadata": {},
   "outputs": [],
   "source": []
  }
 ],
 "metadata": {
  "kernelspec": {
   "display_name": "Python 3",
   "language": "python",
   "name": "python3"
  },
  "language_info": {
   "codemirror_mode": {
    "name": "ipython",
    "version": 3
   },
   "file_extension": ".py",
   "mimetype": "text/x-python",
   "name": "python",
   "nbconvert_exporter": "python",
   "pygments_lexer": "ipython3",
   "version": "3.6.2"
  }
 },
 "nbformat": 4,
 "nbformat_minor": 2
}
