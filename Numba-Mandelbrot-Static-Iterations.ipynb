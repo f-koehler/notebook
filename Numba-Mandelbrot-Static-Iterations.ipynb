{
 "cells": [
  {
   "cell_type": "code",
   "execution_count": null,
   "metadata": {},
   "outputs": [],
   "source": [
    "from IPython.html import widgets\n",
    "from numba import *\n",
    "from bokeh.plotting import figure, show\n",
    "from bokeh.io import output_notebook\n",
    "import numpy as np"
   ]
  },
  {
   "cell_type": "code",
   "execution_count": null,
   "metadata": {},
   "outputs": [],
   "source": [
    "output_notebook()\n",
    "\n",
    "nx = 1500\n",
    "ny = 1000"
   ]
  },
  {
   "cell_type": "code",
   "execution_count": null,
   "metadata": {},
   "outputs": [],
   "source": [
    "@vectorize([uint8(float64, float64, uint64)])\n",
    "def mandelbrot_pixel(x, y, iterations):\n",
    "    c = complex(x, y)\n",
    "    z = 0.0j\n",
    "    for i in range(iterations):\n",
    "        z = z * z + c\n",
    "        if (z.real * z.real + z.imag * z.imag) >= 4:\n",
    "            return i\n",
    "\n",
    "    return 255"
   ]
  },
  {
   "cell_type": "code",
   "execution_count": null,
   "metadata": {},
   "outputs": [],
   "source": [
    "def mandelbrot(iterations, min_x, max_x, min_y, max_y):\n",
    "    min_x = float(min_x)\n",
    "    max_x = float(max_x)\n",
    "    min_y = float(min_y)\n",
    "    max_y = float(max_y)\n",
    "    \n",
    "    dx = (max_x - min_x) / nx\n",
    "    dy = (max_y - min_y) / ny\n",
    "    \n",
    "    X, Y = np.meshgrid(\n",
    "        np.arange(min_x, max_x, dx),\n",
    "        np.arange(min_y, max_y, dy),\n",
    "    )\n",
    "    Z = mandelbrot_pixel(X, Y, iterations).reshape(X.shape)\n",
    "    \n",
    "    p = figure(x_range=(min_x, max_x), y_range=(min_y, max_y))\n",
    "    p.image(image=[Z], x=min_x, y=min_y, dw=max_x-min_x, dh=max_y-min_y, palette=\"Viridis256\")\n",
    "    p.xaxis.axis_label = \"x\"\n",
    "    p.yaxis.axis_label = \"y\"\n",
    "    show(p)"
   ]
  },
  {
   "cell_type": "code",
   "execution_count": null,
   "metadata": {},
   "outputs": [],
   "source": [
    "widgets.interact(mandelbrot, iterations=(1, 255, 1), min_x=\"-2.0\", max_x=\"1.0\", min_y=\"-1.0\", max_y=\"1.0\")"
   ]
  },
  {
   "cell_type": "code",
   "execution_count": null,
   "metadata": {},
   "outputs": [],
   "source": []
  }
 ],
 "metadata": {
  "kernelspec": {
   "display_name": "Python 3",
   "language": "python",
   "name": "python3"
  },
  "language_info": {
   "codemirror_mode": {
    "name": "ipython",
    "version": 3
   },
   "file_extension": ".py",
   "mimetype": "text/x-python",
   "name": "python",
   "nbconvert_exporter": "python",
   "pygments_lexer": "ipython3",
   "version": "3.6.1"
  }
 },
 "nbformat": 4,
 "nbformat_minor": 2
}
