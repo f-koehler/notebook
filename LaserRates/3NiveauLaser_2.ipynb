{
 "cells": [
  {
   "cell_type": "code",
   "execution_count": null,
   "metadata": {},
   "outputs": [],
   "source": [
    "%matplotlib notebook\n",
    "import sympy\n",
    "from sympy.utilities.autowrap import ufuncify\n",
    "import numpy\n",
    "from matplotlib import pyplot as plt\n",
    "import ipywidgets as widgets\n",
    "from ipywidgets import interact\n",
    "sympy.init_printing()"
   ]
  },
  {
   "cell_type": "code",
   "execution_count": null,
   "metadata": {},
   "outputs": [],
   "source": [
    "sympy.var\n",
    "W, T0, T1, t = sympy.var(\"W T0 T1 t\", real=True, positive=True)\n",
    "M = sympy.Matrix([[-W, 1 / T1, 0], [0, -1 / T1, 1 / T0], [W, 0, -1 / T0]])\n",
    "M"
   ]
  },
  {
   "cell_type": "code",
   "execution_count": null,
   "metadata": {},
   "outputs": [],
   "source": [
    "eigensys = M.eigenvects()"
   ]
  },
  {
   "cell_type": "code",
   "execution_count": null,
   "metadata": {},
   "outputs": [],
   "source": [
    "evals = []\n",
    "evecs = []\n",
    "for val, m, vecs in eigensys:\n",
    "    for i in range(m):\n",
    "        evals.append(val)\n",
    "        evecs.append(vecs[i])"
   ]
  },
  {
   "cell_type": "code",
   "execution_count": null,
   "metadata": {},
   "outputs": [],
   "source": [
    "def compute_solution(W_val, T0_val, T1_val):\n",
    "    sevals = [\n",
    "        sympy.simplify(val.subs({\n",
    "            W: W_val,\n",
    "            T0: T0_val,\n",
    "            T1: T1_val\n",
    "        })) for val in evals\n",
    "    ]\n",
    "    sevecs = [\n",
    "        sympy.simplify(vec.subs({\n",
    "            W: W_val,\n",
    "            T0: T0_val,\n",
    "            T1: T1_val\n",
    "        })) for vec in evecs\n",
    "    ]\n",
    "\n",
    "    N0 = sympy.Matrix([1, 0, 0])\n",
    "    c0, c1, c2 = sympy.var(\"c0 c1 c2\")\n",
    "    C = sympy.Matrix([c0, c1, c2])\n",
    "    A = sympy.zeros(3, 4)\n",
    "    for i in range(len(sevecs)):\n",
    "        for j in range(len(sevecs)):\n",
    "            A[i, j] = sevecs[j][i]\n",
    "\n",
    "    A[:, 3] = N0\n",
    "\n",
    "    sol = sympy.solve_linear_system_LU(A, [c0, c1, c2])\n",
    "    coeffs = [complex(sympy.simplify(sol[c])) for c in C]\n",
    "    fundamental_solutions = [\n",
    "        coeff * vec * sympy.exp(val * t)\n",
    "        for coeff, val, vec in zip(coeffs, sevals, sevecs)\n",
    "    ]\n",
    "    solution = fundamental_solutions[0]\n",
    "    for fs in fundamental_solutions[1:]:\n",
    "        solution += fs\n",
    "    solution = sympy.lambdify((t), sympy.simplify(solution))\n",
    "\n",
    "    def f(t_val):\n",
    "        try:\n",
    "            iter(t_val)\n",
    "            return numpy.array([solution(tmp)[:,0] for tmp in t_val]).transpose()\n",
    "        except TypeError:\n",
    "            return solution(t_val)[:, 0]\n",
    "    return f"
   ]
  },
  {
   "cell_type": "code",
   "execution_count": null,
   "metadata": {},
   "outputs": [],
   "source": [
    "widget_W = widgets.FloatText(value=1., description=r\"$W/\\tau_1$\")\n",
    "widget_tau_0 = widgets.FloatText(value=1000., description=r\"$\\tau_0/\\tau_1$\")\n",
    "@interact(W=widget_W, T0=widget_tau_0)\n",
    "def plot(W, T0):\n",
    "    N_t = compute_solution(W, T0, 1.)\n",
    "    ts = numpy.linspace(0, 10, 1000)\n",
    "    Ns = N_t(ts)\n",
    "    Ns = numpy.real(Ns)\n",
    "    fig, ax = plt.subplots(1,1)\n",
    "    ax.plot(ts, Ns[0,:], label=\"$N_0$\")\n",
    "    ax.plot(ts, Ns[1,:], label=\"$N_1$\")\n",
    "    ax.plot(ts, Ns[2,:], label=\"$N_2$\")\n",
    "    ax.set_xlabel(\"$t$\")\n",
    "    ax.set_ylabel(r\"$\\frac{N(t)}{N(0)}$\")\n",
    "    ax.legend()\n",
    "    ax.grid(True)\n",
    "    \n",
    "    fig, ax = plt.subplots(1,1)\n",
    "    ax.plot(ts, Ns[2,:]-Ns[1,:])\n",
    "    ax.set_xlabel(\"$t$\")\n",
    "    ax.set_ylabel(r\"$\\frac{1}{N(0)}\\left(N_2(t)-N_1(t)\\right)$\")\n",
    "    ax.grid()\n",
    "    fig.tight_layout()"
   ]
  },
  {
   "cell_type": "code",
   "execution_count": null,
   "metadata": {},
   "outputs": [],
   "source": []
  }
 ],
 "metadata": {
  "kernelspec": {
   "display_name": "Python 3",
   "language": "python",
   "name": "python3"
  },
  "language_info": {
   "codemirror_mode": {
    "name": "ipython",
    "version": 3
   },
   "file_extension": ".py",
   "mimetype": "text/x-python",
   "name": "python",
   "nbconvert_exporter": "python",
   "pygments_lexer": "ipython3",
   "version": "3.6.5"
  }
 },
 "nbformat": 4,
 "nbformat_minor": 2
}
